{
 "cells": [
  {
   "cell_type": "markdown",
   "id": "80854890-ff54-4a39-9d23-db55c7bff408",
   "metadata": {
    "name": "cell1"
   },
   "source": [
    "# Chapter 2 Lab: Working with External Stages\n",
    "In this lab, you will create an external stage, define file formats, and load data from external Azure Storage."
   ]
  },
  {
   "cell_type": "markdown",
   "id": "61b6eb94-24cd-455e-8671-13eb6e7d60f5",
   "metadata": {
    "name": "cell2"
   },
   "source": [
    "## Step 1: Create a file format for CSV"
   ]
  },
  {
   "cell_type": "code",
   "execution_count": null,
   "id": "1d4221aa-cf21-4af4-8e39-13131fde3140",
   "metadata": {
    "language": "sql",
    "name": "cell3",
    "vscode": {
     "languageId": "sql"
    }
   },
   "outputs": [],
   "source": [
    "CREATE OR REPLACE FILE FORMAT lab_csv_format\n",
    "  TYPE = 'CSV'\n",
    "  FIELD_OPTIONALLY_ENCLOSED_BY = '\"'\n",
    "  SKIP_HEADER = 1;"
   ]
  },
  {
   "cell_type": "markdown",
   "id": "28d5baaa-690a-4442-ab0f-0e5a2110086c",
   "metadata": {
    "name": "cell4"
   },
   "source": [
    "## Step 2: Create a stage for `subscriptions.csv`\n",
    "(Assume your instructor has provided the SAS URL.)"
   ]
  },
  {
   "cell_type": "code",
   "execution_count": null,
   "id": "02de427e-cf05-4968-a592-25408005f7d8",
   "metadata": {
    "language": "sql",
    "name": "cell5",
    "vscode": {
     "languageId": "sql"
    }
   },
   "outputs": [],
   "source": [
    "-- Replace <YOUR_SAS_TOKEN> below with the actual SAS token\n",
    "CREATE OR REPLACE STAGE ext_stage_subscriptions\n",
    "  URL = 'azure://<YOUR_STORAGE_ACCOUNT_NAME>.blob.core.windows.net/<YOUR_CONTAINER_NAME>'\n",
    "  CREDENTIALS = (AZURE_SAS_TOKEN = '<YOUR_SAS_TOKEN>')\n",
    "  FILE_FORMAT = lab_csv_format;\n",
    "-- "
   ]
  },
  {
   "cell_type": "markdown",
   "id": "a65a2696-089c-4885-bef2-392c64176891",
   "metadata": {
    "name": "cell6"
   },
   "source": [
    "## Step 3: List files in the stage"
   ]
  },
  {
   "cell_type": "code",
   "execution_count": null,
   "id": "d1586283-4510-47ce-90ae-407ded3e9006",
   "metadata": {
    "language": "sql",
    "name": "cell7",
    "vscode": {
     "languageId": "sql"
    }
   },
   "outputs": [],
   "source": [
    "LIST @ext_stage_subscriptions;"
   ]
  },
  {
   "cell_type": "markdown",
   "id": "418d5fb9-6d2f-434c-9e73-c10277ee9220",
   "metadata": {
    "name": "cell8"
   },
   "source": [
    "## Step 4: Create a table for `subscriptions.csv`\n",
    "Refer to the sample headers and create an appropriate schema."
   ]
  },
  {
   "cell_type": "code",
   "execution_count": null,
   "id": "0e64dd6c-959a-42cb-9a0d-a99d4e919f41",
   "metadata": {
    "language": "sql",
    "name": "cell9",
    "vscode": {
     "languageId": "sql"
    }
   },
   "outputs": [],
   "source": [
    "-- TODO: Write CREATE TABLE statement for subscriptions"
   ]
  },
  {
   "cell_type": "markdown",
   "id": "289ac4fe-d8a1-41b7-b532-7e80a42b701a",
   "metadata": {
    "name": "cell10"
   },
   "source": [
    "## Step 5: Load data from the stage"
   ]
  },
  {
   "cell_type": "code",
   "execution_count": null,
   "id": "6695d65c-864a-4866-9735-fc6e78a6ad45",
   "metadata": {
    "language": "sql",
    "name": "cell11",
    "vscode": {
     "languageId": "sql"
    }
   },
   "outputs": [],
   "source": [
    "-- TODO: Write COPY INTO statement to load subscriptions.csv"
   ]
  }
 ],
 "metadata": {
  "language_info": {
   "name": "python"
  },
  "lastEditStatus": {
   "authorEmail": "hwpark@wiken.co.kr",
   "authorId": "602707820878",
   "authorName": "HWPARK",
   "lastEditTime": 1750789975146,
   "notebookId": "holons5znorhqspxve6d",
   "sessionId": "63983bc3-ba3f-4a2b-b0f5-158e4322b126"
  }
 },
 "nbformat": 4,
 "nbformat_minor": 5
}
