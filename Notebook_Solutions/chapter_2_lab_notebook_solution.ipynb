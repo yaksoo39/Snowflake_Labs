{
 "cells": [
  {
   "cell_type": "markdown",
   "id": "96138f1d",
   "metadata": {},
   "source": [
    "# Chapter 2 Lab: Working with External Stages (Solution Version)\n",
    "This notebook includes completed SQL statements."
   ]
  },
  {
   "cell_type": "markdown",
   "id": "2e739ceb",
   "metadata": {},
   "source": [
    "## Step 1: Create a file format for CSV"
   ]
  },
  {
   "cell_type": "code",
   "execution_count": null,
   "id": "d7384410",
   "metadata": {},
   "outputs": [],
   "source": [
    "CREATE OR REPLACE FILE FORMAT lab_csv_format\n",
    "  TYPE = 'CSV'\n",
    "  FIELD_OPTIONALLY_ENCLOSED_BY = '\"'\n",
    "  SKIP_HEADER = 1;"
   ]
  },
  {
   "cell_type": "markdown",
   "id": "74b422d3",
   "metadata": {},
   "source": [
    "## Step 2: Create a stage for `subscriptions.csv`"
   ]
  },
  {
   "cell_type": "code",
   "execution_count": null,
   "id": "511aac0d",
   "metadata": {},
   "outputs": [],
   "source": [
    "CREATE OR REPLACE STAGE ext_stage_subscriptions\n",
    "  URL = 'azure://<myaccount>.blob.core.windows.net/subscriptions'\n",
    "  CREDENTIALS = (AZURE_SAS_TOKEN = '<my_sas_token>')\n",
    "  FILE_FORMAT = lab_csv_format;"
   ]
  },
  {
   "cell_type": "markdown",
   "id": "e4e88713",
   "metadata": {},
   "source": [
    "## Step 3: List files in the stage"
   ]
  },
  {
   "cell_type": "code",
   "execution_count": null,
   "id": "9913b7de",
   "metadata": {},
   "outputs": [],
   "source": [
    "LIST @ext_stage_subscriptions;"
   ]
  },
  {
   "cell_type": "markdown",
   "id": "cda588c6",
   "metadata": {},
   "source": [
    "## Step 4: Create a table for `subscriptions.csv`"
   ]
  },
  {
   "cell_type": "code",
   "execution_count": null,
   "id": "5dcf7b09",
   "metadata": {},
   "outputs": [],
   "source": [
    "\n",
    "CREATE OR REPLACE TABLE subscriptions (\n",
    "  subscription_id STRING,\n",
    "  customer_id STRING,\n",
    "  plan_id STRING,\n",
    "  start_date DATE,\n",
    "  end_date DATE,\n",
    "  status STRING\n",
    ");"
   ]
  },
  {
   "cell_type": "markdown",
   "id": "47953ee0",
   "metadata": {},
   "source": [
    "## Step 5: Load data from the stage"
   ]
  },
  {
   "cell_type": "code",
   "execution_count": null,
   "id": "08b85387",
   "metadata": {},
   "outputs": [],
   "source": [
    "\n",
    "COPY INTO subscriptions\n",
    "FROM @ext_stage_subscriptions/subscriptions.csv\n",
    "FILE_FORMAT = (FORMAT_NAME = lab_csv_format);\n"
   ]
  }
 ],
 "metadata": {
  "language_info": {
   "name": "python"
  }
 },
 "nbformat": 4,
 "nbformat_minor": 5
}
